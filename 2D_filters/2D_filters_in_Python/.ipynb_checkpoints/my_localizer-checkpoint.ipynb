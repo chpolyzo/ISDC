{
 "cells": [
  {
   "cell_type": "code",
   "execution_count": 1,
   "id": "26dd752e",
   "metadata": {},
   "outputs": [],
   "source": [
    "def normalize(grid):\n",
    "    \"\"\"\n",
    "    Given a grid of unnormalized probabilities, computes the\n",
    "    correspond normalized version of that grid. \n",
    "    \"\"\"\n",
    "    total = 0.0\n",
    "    for row in grid:\n",
    "        for cell in row:\n",
    "            total += cell\n",
    "    for i,row in enumerate(grid):\n",
    "        for j,cell in enumerate(row):\n",
    "            grid[i][j] = float(cell) / total\n",
    "    return grid\n",
    "\n",
    "\n",
    "def blur(grid, blurring):\n",
    "    \"\"\"\n",
    "    Spreads probability out on a grid using a 3x3 blurring window.\n",
    "    The blurring parameter controls how much of a belief spills out\n",
    "    into adjacent cells. If blurring is 0 this function will have \n",
    "    no effect. \n",
    "    \"\"\"\n",
    "    height = len(grid)\n",
    "    width  = len(grid[0])\n",
    "\n",
    "    center_prob = 1.0-blurring\n",
    "    corner_prob = blurring / 12.0\n",
    "    adjacent_prob = blurring / 6.0\n",
    "\n",
    "    window = [\n",
    "            [corner_prob,  adjacent_prob,  corner_prob],\n",
    "            [adjacent_prob, center_prob,  adjacent_prob],\n",
    "            [corner_prob,  adjacent_prob,  corner_prob]\n",
    "        ]\n",
    "    new = [[0.0 for i in range(width)] for j in range(height)]\n",
    "    for i in range(height):\n",
    "        for j in range(width):\n",
    "            grid_val = grid[i][j]\n",
    "            for dx in range(-1,2):\n",
    "                for dy in range(-1,2):\n",
    "                    mult = window[dx+1][dy+1]\n",
    "                    new_i = (i + dy) % height\n",
    "                    new_j = (j + dx) % width\n",
    "                    new[new_i][new_j] += mult * grid_val\n",
    "    return normalize(new)"
   ]
  },
  {
   "cell_type": "code",
   "execution_count": 2,
   "id": "cb98ba5f",
   "metadata": {},
   "outputs": [],
   "source": [
    "def initialize_beliefs(grid):\n",
    "    height = len(grid)\n",
    "    width = len(grid[0])\n",
    "    area = height * width\n",
    "    belief_per_cell = 1.0 / area\n",
    "    beliefs = []\n",
    "    for i in range(height):\n",
    "        row = []\n",
    "        for j in range(width):\n",
    "            row.append(belief_per_cell)\n",
    "        beliefs.append(row)\n",
    "    return beliefs\n",
    "\n",
    "def sense(color, grid, beliefs, p_hit, p_miss):\n",
    "    new_beliefs = []\n",
    "    \n",
    "    height = len(grid)\n",
    "    width = len(grid[0])\n",
    "    \n",
    "    # loop through all grid cells\n",
    "    for i in range(height):\n",
    "        row = []\n",
    "        for j in range(width):\n",
    "            hit = (color == grid[i][j])\n",
    "            row.append(beliefs[i][j] * (hit * p_hit + (1-hit) * p_miss))\n",
    "        new_beliefs.append(row)\n",
    "        \n",
    "    s = sum(map(sum, new_beliefs))\n",
    "\n",
    "    for i in range(height):\n",
    "        for j in range(width):\n",
    "            new_beliefs[i][j] = new_beliefs[i][j] / s\n",
    "            \n",
    "    return new_beliefs\n",
    "\n",
    "def move(dy, dx, beliefs, blurring):\n",
    "    height = len(beliefs)\n",
    "    width = len(beliefs[0])\n",
    "    new_G = [[0.0 for i in range(width)] for j in range(height)]\n",
    "    for i, row in enumerate(beliefs):\n",
    "        for j, cell in enumerate(row):\n",
    "            # debugging info : the \"height\" and \"width\" in the modulo part was interchanged.\n",
    "            new_i = (i + dy ) % height\n",
    "            new_j = (j + dx ) % width\n",
    "            new_G[int(new_i)][int(new_j)] = cell\n",
    "    return blur(new_G, blurring)"
   ]
  },
  {
   "cell_type": "code",
   "execution_count": 3,
   "id": "4e2873d6",
   "metadata": {},
   "outputs": [],
   "source": [
    "R = 'r'\n",
    "G = 'g'\n",
    "grid = [\n",
    "    [R,G,G,G,R],\n",
    "    [G,G,R,G,R],\n",
    "    [G,R,G,G,G],\n",
    "    [R,R,G,R,G],\n",
    "    [R,G,R,G,R],\n",
    "]\n",
    "blur = 0.05\n",
    "p_hit = 200.0\n",
    "p_miss = 1.0\n",
    "colour = 'red'\n",
    "dy = random.choice([-1,0,1])\n",
    "dx = random.choice([-1,0,1])"
   ]
  },
  {
   "cell_type": "code",
   "execution_count": 4,
   "id": "8db845b6",
   "metadata": {},
   "outputs": [],
   "source": [
    "def initialize_beliefs_c(grid):\n",
    "    height = len(grid)\n",
    "    width = len(grid[0])\n",
    "    beliefs = [[1.0/(height*width) for j in range(width)] for i in range(height)]\n",
    "    return beliefs\n",
    "\n",
    "def sense_c(color, grid, beliefs, p_hit, p_miss):\n",
    "    multiplier = lambda x: p_hit if x == color else p_miss\n",
    "    single_beliefs = [[multiplier(grid[i][j]) for j in range(len(grid[0]))] for i in range(len(grid))]\n",
    "    s = sum(map(sum, single_beliefs))\n",
    "    new_beliefs = [[single_beliefs[i][j]/s for j in range(len(grid[0]))] for i in range(len(grid))]\n",
    "    \n",
    "    return new_beliefs\n",
    "\n",
    "\n",
    "\n",
    "def move_c(dy, dx, beliefs, blurring):\n",
    "    new_G = [[0.0 for i in range(len(beliefs[0]))] for j in range(len(beliefs))]\n",
    "    new_i = [(i + dy ) % height for i in range(len(beliefs[0]))]\n",
    "    new_j = [(j + dx ) % width for j in range(len(beliefs))]\n",
    "    \n",
    "    \n",
    "def move_c(dy, dx, beliefs, blurring):\n",
    "    height = len(beliefs)\n",
    "    width = len(beliefs[0])\n",
    "    new_G = [[0.0 for i in range(width)] for j in range(height)]\n",
    "    for i, row in enumerate(beliefs):\n",
    "        for j, cell in enumerate(row):\n",
    "            # debugging info : the \"height\" and \"width\" in the modulo part was interchanged.\n",
    "            new_i = (i + dy ) % height\n",
    "            new_j = (j + dx ) % width\n",
    "            new_G[int(new_i)][int(new_j)] = cell\n",
    "    return blur(new_G, blurring)"
   ]
  },
  {
   "cell_type": "code",
   "execution_count": 5,
   "id": "3b753d8c",
   "metadata": {},
   "outputs": [],
   "source": [
    "beliefs_c = initialize_beliefs_c(grid)\n",
    "beliefs_m = initialize_beliefs(grid)"
   ]
  },
  {
   "cell_type": "code",
   "execution_count": 6,
   "id": "f7b12976",
   "metadata": {},
   "outputs": [
    {
     "data": {
      "text/plain": [
       "[[0.04, 0.04, 0.04, 0.04, 0.04],\n",
       " [0.04, 0.04, 0.04, 0.04, 0.04],\n",
       " [0.04, 0.04, 0.04, 0.04, 0.04],\n",
       " [0.04, 0.04, 0.04, 0.04, 0.04],\n",
       " [0.04, 0.04, 0.04, 0.04, 0.04]]"
      ]
     },
     "execution_count": 6,
     "metadata": {},
     "output_type": "execute_result"
    }
   ],
   "source": [
    "beliefs_c"
   ]
  },
  {
   "cell_type": "code",
   "execution_count": 7,
   "id": "3d395f99",
   "metadata": {},
   "outputs": [
    {
     "data": {
      "text/plain": [
       "[[0.04, 0.04, 0.04, 0.04, 0.04],\n",
       " [0.04, 0.04, 0.04, 0.04, 0.04],\n",
       " [0.04, 0.04, 0.04, 0.04, 0.04],\n",
       " [0.04, 0.04, 0.04, 0.04, 0.04],\n",
       " [0.04, 0.04, 0.04, 0.04, 0.04]]"
      ]
     },
     "execution_count": 7,
     "metadata": {},
     "output_type": "execute_result"
    }
   ],
   "source": [
    "sense_c(colour, grid, beliefs_c, p_hit, p_miss)"
   ]
  },
  {
   "cell_type": "code",
   "execution_count": 8,
   "id": "52b84f69",
   "metadata": {},
   "outputs": [
    {
     "data": {
      "text/plain": [
       "[[0.04, 0.04, 0.04, 0.04, 0.04],\n",
       " [0.04, 0.04, 0.04, 0.04, 0.04],\n",
       " [0.04, 0.04, 0.04, 0.04, 0.04],\n",
       " [0.04, 0.04, 0.04, 0.04, 0.04],\n",
       " [0.04, 0.04, 0.04, 0.04, 0.04]]"
      ]
     },
     "execution_count": 8,
     "metadata": {},
     "output_type": "execute_result"
    }
   ],
   "source": [
    "initialize_beliefs(grid)"
   ]
  },
  {
   "cell_type": "code",
   "execution_count": 9,
   "id": "a278b490",
   "metadata": {},
   "outputs": [
    {
     "data": {
      "text/plain": [
       "[[0.04, 0.04, 0.04, 0.04, 0.04],\n",
       " [0.04, 0.04, 0.04, 0.04, 0.04],\n",
       " [0.04, 0.04, 0.04, 0.04, 0.04],\n",
       " [0.04, 0.04, 0.04, 0.04, 0.04],\n",
       " [0.04, 0.04, 0.04, 0.04, 0.04]]"
      ]
     },
     "execution_count": 9,
     "metadata": {},
     "output_type": "execute_result"
    }
   ],
   "source": [
    "sense(colour, grid, beliefs_m, p_hit, p_miss)"
   ]
  },
  {
   "cell_type": "markdown",
   "id": "be2da913",
   "metadata": {},
   "source": [
    "https://github.com/chpolyzo/ISDC/blob/main/bayesian_thinking/move_sense.ipynb"
   ]
  }
 ],
 "metadata": {
  "kernelspec": {
   "display_name": "Python 3 (ipykernel)",
   "language": "python",
   "name": "python3"
  },
  "language_info": {
   "codemirror_mode": {
    "name": "ipython",
    "version": 3
   },
   "file_extension": ".py",
   "mimetype": "text/x-python",
   "name": "python",
   "nbconvert_exporter": "python",
   "pygments_lexer": "ipython3",
   "version": "3.9.12"
  }
 },
 "nbformat": 4,
 "nbformat_minor": 5
}

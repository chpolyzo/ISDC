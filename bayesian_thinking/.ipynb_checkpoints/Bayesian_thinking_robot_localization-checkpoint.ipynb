{
 "cells": [
  {
   "cell_type": "markdown",
   "id": "edae8a1d",
   "metadata": {},
   "source": [
    "In the following videos\n",
    "1. [Normalized Sense Function - Artificial Intelligence for Robotics - first video](https://youtu.be/GqWszyHTYas) \n",
    "2. [Normalized Sense Function - Artificial Intelligence for Robotics - second video](https://youtu.be/UX3W8TUKbJ0)\n",
    "is shown how to calculate the posterior probability.\n",
    "\n",
    "However the solution provided in the classroom is different than the one explained int he video. Posterior probabilities do not match the ones explained through the lesson."
   ]
  },
  {
   "cell_type": "markdown",
   "id": "847cecc4",
   "metadata": {},
   "source": [
    "This is the solution provided in class:"
   ]
  },
  {
   "cell_type": "code",
   "execution_count": 2,
   "id": "3edc884a",
   "metadata": {},
   "outputs": [],
   "source": [
    "#Modify your code so that it normalizes the output for \n",
    "#the function sense. This means that the entries in q \n",
    "#should sum to one.\n",
    "\n",
    "p=[0.2, 0.2, 0.2, 0.2, 0.2]\n",
    "world=['green', 'red', 'red', 'green', 'green']\n",
    "Z = 'red'\n",
    "pHit = 0.6\n",
    "pMiss = 0.2\n",
    "\n",
    "def sense(p, world, Z):\n",
    "    q = list()\n",
    "    for i, v in enumerate(p):\n",
    "        if Z == 'green':\n",
    "            multiplier = pHit if world[i] == 'green' else 1\n",
    "        if Z == 'red':\n",
    "            multiplier = pMiss if world[i] == 'red' else 1\n",
    "        q.append(v * multiplier)\n",
    "    total = sum(q)\n",
    "    for i, v in enumerate(q):\n",
    "        q[i] = v/total\n",
    "    return q"
   ]
  },
  {
   "cell_type": "markdown",
   "id": "2a63bdff",
   "metadata": {},
   "source": [
    "This is my calculation:"
   ]
  },
  {
   "cell_type": "code",
   "execution_count": 3,
   "id": "23107914",
   "metadata": {},
   "outputs": [],
   "source": [
    "prior = [0.2 for i in range(5)]\n",
    "world=['green', 'red', 'red', 'green', 'green']\n",
    "Z = 'red'\n",
    "pHit = 0.6\n",
    "pMiss = 0.2\n",
    "\n",
    "def crysanthi_sense(prior, world, color):\n",
    "    multiplier = lambda color: pHit if color == 'red' else pMiss\n",
    "    pre_posterior = list(map(multiplier, world))\n",
    "    print(f\"Multipliers are {pre_posterior}\")\n",
    "    priorPerPrePosterior = list(map(lambda x,y:x*y,prior,pre_posterior))\n",
    "    print(f\"Non normalized posterors are {priorPerPrePosterior}\")\n",
    "    total = sum(priorPerPrePosterior)\n",
    "    print(total)\n",
    "    posterior = list(map(lambda i:i/total,priorPerPrePosterior))\n",
    "    print(posterior)\n",
    "    return posterior"
   ]
  },
  {
   "cell_type": "code",
   "execution_count": 4,
   "id": "0f55f640",
   "metadata": {},
   "outputs": [
    {
     "ename": "NameError",
     "evalue": "name 'priorPosterior' is not defined",
     "output_type": "error",
     "traceback": [
      "\u001b[1;31m---------------------------------------------------------------------------\u001b[0m",
      "\u001b[1;31mNameError\u001b[0m                                 Traceback (most recent call last)",
      "Input \u001b[1;32mIn [4]\u001b[0m, in \u001b[0;36m<cell line: 1>\u001b[1;34m()\u001b[0m\n\u001b[1;32m----> 1\u001b[0m \u001b[43mcrysanthi_sense\u001b[49m\u001b[43m(\u001b[49m\u001b[43mprior\u001b[49m\u001b[43m,\u001b[49m\u001b[43m \u001b[49m\u001b[43mworld\u001b[49m\u001b[43m,\u001b[49m\u001b[43m \u001b[49m\u001b[43mZ\u001b[49m\u001b[43m)\u001b[49m\n",
      "Input \u001b[1;32mIn [3]\u001b[0m, in \u001b[0;36mcrysanthi_sense\u001b[1;34m(prior, world, color)\u001b[0m\n\u001b[0;32m     10\u001b[0m priorPerPosterior \u001b[38;5;241m=\u001b[39m \u001b[38;5;28mlist\u001b[39m(\u001b[38;5;28mmap\u001b[39m(\u001b[38;5;28;01mlambda\u001b[39;00m x,y:x\u001b[38;5;241m*\u001b[39my,prior,posterior))\n\u001b[0;32m     11\u001b[0m total \u001b[38;5;241m=\u001b[39m \u001b[38;5;28msum\u001b[39m(priorPerPosterior)\n\u001b[1;32m---> 13\u001b[0m \u001b[38;5;28;01mreturn\u001b[39;00m \u001b[38;5;28mlist\u001b[39m(\u001b[38;5;28mmap\u001b[39m(\u001b[38;5;28;01mlambda\u001b[39;00m i:i\u001b[38;5;241m/\u001b[39mtotal,\u001b[43mpriorPosterior\u001b[49m))\n",
      "\u001b[1;31mNameError\u001b[0m: name 'priorPosterior' is not defined"
     ]
    }
   ],
   "source": [
    "crysanthi_sense(prior, world, Z)"
   ]
  },
  {
   "cell_type": "code",
   "execution_count": null,
   "id": "c2adabc0",
   "metadata": {},
   "outputs": [],
   "source": []
  }
 ],
 "metadata": {
  "kernelspec": {
   "display_name": "Python 3 (ipykernel)",
   "language": "python",
   "name": "python3"
  },
  "language_info": {
   "codemirror_mode": {
    "name": "ipython",
    "version": 3
   },
   "file_extension": ".py",
   "mimetype": "text/x-python",
   "name": "python",
   "nbconvert_exporter": "python",
   "pygments_lexer": "ipython3",
   "version": "3.9.12"
  }
 },
 "nbformat": 4,
 "nbformat_minor": 5
}

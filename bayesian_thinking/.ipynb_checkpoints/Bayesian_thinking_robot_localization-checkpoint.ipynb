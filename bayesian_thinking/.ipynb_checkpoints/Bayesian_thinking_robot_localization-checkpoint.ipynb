{
 "cells": [
  {
   "cell_type": "markdown",
   "id": "a603009e",
   "metadata": {},
   "source": [
    "In the following videos\n",
    "1. [Normalized Sense Function - Artificial Intelligence for Robotics - first video](https://youtu.be/GqWszyHTYas) \n",
    "2. [Normalized Sense Function - Artificial Intelligence for Robotics - second video](https://youtu.be/UX3W8TUKbJ0)\n",
    "is shown how to calculate the posterior probability.\n",
    "\n",
    "However the solution provided in the classroom is different than the one explained int he video. Posterior probabilities do not match the ones explained through the lesson."
   ]
  },
  {
   "cell_type": "markdown",
   "id": "a781d0c5",
   "metadata": {},
   "source": [
    "This is the solution provided in class in section 18, 19,\n",
    "\n",
    "__Bayesian Thinking__ \n",
    "\n",
    "_Robot Localization_:"
   ]
  },
  {
   "cell_type": "code",
   "execution_count": 1,
   "id": "37c17b3f",
   "metadata": {},
   "outputs": [],
   "source": [
    "#Modify your code so that it normalizes the output for \n",
    "#the function sense. This means that the entries in q \n",
    "#should sum to one.\n",
    "\n",
    "p=[0.2, 0.2, 0.2, 0.2, 0.2]\n",
    "world=['green', 'red', 'red', 'green', 'green']\n",
    "Z = 'red'\n",
    "pHit = 0.6\n",
    "pMiss = 0.2\n",
    "\n",
    "def sense(p, world, Z):\n",
    "    q = list()\n",
    "    for i, v in enumerate(p):\n",
    "        if Z == 'green':\n",
    "            multiplier = pHit if world[i] == 'green' else 1\n",
    "        if Z == 'red':\n",
    "            multiplier = pMiss if world[i] == 'red' else 1\n",
    "        q.append(v * multiplier)\n",
    "    total = sum(q)\n",
    "    for i, v in enumerate(q):\n",
    "        q[i] = v/total\n",
    "    return q"
   ]
  },
  {
   "cell_type": "markdown",
   "id": "527ffee8",
   "metadata": {},
   "source": [
    "This is my calculation:"
   ]
  },
  {
   "cell_type": "code",
   "execution_count": 2,
   "id": "a6afff9b",
   "metadata": {},
   "outputs": [],
   "source": [
    "prior = [0.2 for i in range(5)]\n",
    "world=['green', 'red', 'red', 'green', 'green']\n",
    "Z = 'red'\n",
    "pHit = 0.6\n",
    "pMiss = 0.2\n",
    "\n",
    "def chrysanthi_sense(prior, world, color):\n",
    "    multiplier = lambda color: pHit if color == 'red' else pMiss\n",
    "    pre_posterior = list(map(multiplier, world))\n",
    "    #print(f\"Multipliers are {pre_posterior}\")\n",
    "    priorPerPrePosterior = list(map(lambda x,y:x*y,prior,pre_posterior))\n",
    "    #print(f\"Non normalized posterors are {priorPerPrePosterior}\")\n",
    "    total = sum(priorPerPrePosterior)\n",
    "    #print(f\"Τotal Probability is {total}\")\n",
    "    posterior = list(map(lambda i:i/total,priorPerPrePosterior))\n",
    "    #print(f\"Posterior probabilities are {posterior}\")\n",
    "    return posterior"
   ]
  },
  {
   "cell_type": "code",
   "execution_count": 3,
   "id": "11db9e0c",
   "metadata": {},
   "outputs": [
    {
     "data": {
      "text/plain": [
       "[0.1111111111111111,\n",
       " 0.3333333333333332,\n",
       " 0.3333333333333332,\n",
       " 0.1111111111111111,\n",
       " 0.1111111111111111]"
      ]
     },
     "execution_count": 3,
     "metadata": {},
     "output_type": "execute_result"
    }
   ],
   "source": [
    "chrysanthi_sense(prior, world, Z)"
   ]
  },
  {
   "cell_type": "code",
   "execution_count": 4,
   "id": "50095e00",
   "metadata": {},
   "outputs": [],
   "source": [
    "measurements = ['red', 'green']\n",
    "for measurement in measurements:\n",
    "    p = chrysanthi_sense(p, world, measurement)\n",
    "for k in range(len(measurements)):\n",
    "    p = chrysanthi_sense(p, world, k)"
   ]
  },
  {
   "cell_type": "code",
   "execution_count": 6,
   "id": "741e66e0",
   "metadata": {},
   "outputs": [],
   "source": [
    "posterior_measurements = [chrysanthi_sense(p, world, measurement) for measurement in measurements]"
   ]
  },
  {
   "cell_type": "code",
   "execution_count": 7,
   "id": "f39409dc",
   "metadata": {},
   "outputs": [
    {
     "data": {
      "text/plain": [
       "[[0.0020449897750511262,\n",
       "  0.4969325153374233,\n",
       "  0.4969325153374233,\n",
       "  0.0020449897750511262,\n",
       "  0.0020449897750511262],\n",
       " [0.0020449897750511262,\n",
       "  0.4969325153374233,\n",
       "  0.4969325153374233,\n",
       "  0.0020449897750511262,\n",
       "  0.0020449897750511262]]"
      ]
     },
     "execution_count": 7,
     "metadata": {},
     "output_type": "execute_result"
    }
   ],
   "source": [
    "posterior_measurements"
   ]
  },
  {
   "cell_type": "code",
   "execution_count": 8,
   "id": "d86a2b8e",
   "metadata": {},
   "outputs": [
    {
     "data": {
      "text/plain": [
       "[0.02824858757062148,\n",
       " 0.45762711864406774,\n",
       " 0.45762711864406774,\n",
       " 0.02824858757062148,\n",
       " 0.02824858757062148]"
      ]
     },
     "execution_count": 8,
     "metadata": {},
     "output_type": "execute_result"
    }
   ],
   "source": [
    "sense(p, world, Z)"
   ]
  },
  {
   "cell_type": "markdown",
   "id": "5761f949",
   "metadata": {},
   "source": [
    "This is the solution a mentor offered in [Knowledge](https://knowledge.udacity.com/questions/948782) "
   ]
  },
  {
   "cell_type": "code",
   "execution_count": 9,
   "id": "2bd5bcba",
   "metadata": {},
   "outputs": [],
   "source": [
    "p=[0.2, 0.2, 0.2, 0.2, 0.2]\n",
    "world=['green', 'red', 'red', 'green', 'green']\n",
    "Z = 'red'\n",
    "pHit = 0.6\n",
    "pMiss = 0.2\n",
    "\n",
    "\n",
    "def mentor_sense(p, world, Z):\n",
    "    q = list()\n",
    "    for i in range(len(p)):\n",
    "        hit = (Z == world[i])\n",
    "        q.append(p[i] * (hit * pHit + (1-hit) * pMiss))\n",
    "    \n",
    "    total = sum(q)\n",
    "    for i, v in enumerate(q):\n",
    "        q[i] = q[i]/total\n",
    "    return q"
   ]
  },
  {
   "cell_type": "code",
   "execution_count": 10,
   "id": "3b0c5ff3",
   "metadata": {},
   "outputs": [
    {
     "data": {
      "text/plain": [
       "[0.1111111111111111,\n",
       " 0.3333333333333332,\n",
       " 0.3333333333333332,\n",
       " 0.1111111111111111,\n",
       " 0.1111111111111111]"
      ]
     },
     "execution_count": 10,
     "metadata": {},
     "output_type": "execute_result"
    }
   ],
   "source": [
    "mentor_sense(p,world,Z)"
   ]
  },
  {
   "cell_type": "code",
   "execution_count": 11,
   "id": "c80b8e44",
   "metadata": {},
   "outputs": [],
   "source": [
    "# Program a function that returns a new distribution \n",
    "# q, shifted to the right by U units . If U=0, q should \n",
    "# be the same as p.\n",
    "\n",
    "p = [0, 1, 0, 0, 0]\n",
    "\n",
    "def move(p, U):\n",
    "    ## YOUR CODE HERE ##\n",
    "    U = U % len(p) # set the position\n",
    "    q = p[-U:] + p[:-U] # updated probability\n",
    "    \n",
    "    return q"
   ]
  },
  {
   "cell_type": "code",
   "execution_count": 12,
   "id": "723b7594",
   "metadata": {},
   "outputs": [],
   "source": [
    "p = [0,1,0,0,0]\n",
    "pExact = 0.8\n",
    "pOvershoot = 0.1\n",
    "pUndershoot = 0.1\n",
    "\n",
    "def inexact_move(p, U):\n",
    "    q = []\n",
    "    for i in range(len(p)):\n",
    "        \n",
    "        s = pExact*p[(i - U) % len(p)]\n",
    "        print(f\"pExact probability for position {str(i)} is {s}\" )\n",
    "        \n",
    "        s = s + pUndershoot*p[(i - U - 1) % len(p)]\n",
    "        print(f\"pUndershoot probability for position {str(i)} is {s}\")\n",
    "        \n",
    "        s = s + pOvershoot*p[(i - U + 1) % len(p)]\n",
    "        print(f\"pOvershoot probability for position {str(i)}\\n\")\n",
    "              \n",
    "        q.append(s)\n",
    "    return q"
   ]
  },
  {
   "cell_type": "code",
   "execution_count": 51,
   "id": "6011c0c8",
   "metadata": {},
   "outputs": [],
   "source": [
    "p = [0,1,0,0,0]\n",
    "pExact = 0.8\n",
    "pOvershoot = 0.1\n",
    "pUndershoot = 0.1\n",
    "\n",
    "def inexact_move(p, U):\n",
    "    q = []\n",
    "    for i in range(len(p)):\n",
    "        \n",
    "        s_Exact = pExact*p[(i - U) % len(p)]\n",
    "        print(f\"pExact probability for position {str(i)} is {s_Exact}\" )\n",
    "        \n",
    "        s_Under = pUndershoot*p[(i - U + 1) % len(p)]\n",
    "        print(f\"pUndershoot probability for position {str(i)} is {s_Under}\")\n",
    "        \n",
    "        s_Over = pOvershoot*p[(i - U - 1) % len(p)]\n",
    "        print(f\"pOvershoot probability for position {str(i)} is {s_Over}\")\n",
    "        \n",
    "        s = s_Exact + s_Under + s_Over\n",
    "        print(f\"Total probability for position {str(i)} is {s}\\n\")\n",
    "              \n",
    "        q.append(s)\n",
    "    return q"
   ]
  },
  {
   "cell_type": "code",
   "execution_count": 52,
   "id": "0f2ddbb1",
   "metadata": {},
   "outputs": [
    {
     "name": "stdout",
     "output_type": "stream",
     "text": [
      "pExact probability for position 0 is 0.0\n",
      "pUndershoot probability for position 0 is 0.0\n",
      "pOvershoot probability for position 0 is 0.0\n",
      "Total probability for position 0 is 0.0\n",
      "\n",
      "pExact probability for position 1 is 0.0\n",
      "pUndershoot probability for position 1 is 0.1\n",
      "pOvershoot probability for position 1 is 0.0\n",
      "Total probability for position 1 is 0.1\n",
      "\n",
      "pExact probability for position 2 is 0.8\n",
      "pUndershoot probability for position 2 is 0.0\n",
      "pOvershoot probability for position 2 is 0.0\n",
      "Total probability for position 2 is 0.8\n",
      "\n",
      "pExact probability for position 3 is 0.0\n",
      "pUndershoot probability for position 3 is 0.0\n",
      "pOvershoot probability for position 3 is 0.1\n",
      "Total probability for position 3 is 0.1\n",
      "\n",
      "pExact probability for position 4 is 0.0\n",
      "pUndershoot probability for position 4 is 0.0\n",
      "pOvershoot probability for position 4 is 0.0\n",
      "Total probability for position 4 is 0.0\n",
      "\n"
     ]
    },
    {
     "data": {
      "text/plain": [
       "[0.0, 0.1, 0.8, 0.1, 0.0]"
      ]
     },
     "execution_count": 52,
     "metadata": {},
     "output_type": "execute_result"
    }
   ],
   "source": [
    "inexact_move(p, 1)"
   ]
  },
  {
   "cell_type": "code",
   "execution_count": 53,
   "id": "ce71f65a",
   "metadata": {},
   "outputs": [],
   "source": [
    "p = [0,1,0,0,0]\n",
    "pExact = 0.8\n",
    "pOvershoot = 0.1\n",
    "pUndershoot = 0.1\n",
    "\n",
    "def inexact_move(p, U):\n",
    "    q = []\n",
    "    for i in range(len(p)):\n",
    "        \n",
    "        sExact = pExact*p[(i - U) % len(p)]\n",
    "        print(f\"pExact probability for position {str(i)} is {sExact}\" )\n",
    "        \n",
    "        sUnder = pUndershoot*p[(i - U + 1) % len(p)]\n",
    "        print(f\"pUndershoot probability for position {str(i)} is {sUnder}\")\n",
    "        \n",
    "        sOver = pOvershoot*p[(i - U - 1) % len(p)]\n",
    "        print(f\"pOvershoot probability for position {str(i)} is {sOver}\")\n",
    "        \n",
    "        s = sExact + sUnder + sOver\n",
    "        print(f\"Total probability for position {str(i)} is {s}\\n\")\n",
    "              \n",
    "        q.append(s)\n",
    "    return q"
   ]
  },
  {
   "cell_type": "code",
   "execution_count": 57,
   "id": "f7ebf051",
   "metadata": {},
   "outputs": [],
   "source": [
    "p = [0,1,0,0,0]\n",
    "U = 1\n",
    "\n",
    "sExact = [0.8 * p[(i - U) % len(p)] for i in range(len(p))]\n",
    "sUnder = [0.1 * p[(i - U + 1) % len(p)] for i in range(len(p))]\n",
    "sOver = [0.1 * p[(i - U - 1) % len(p)] for i in range(len(p))]\n"
   ]
  },
  {
   "cell_type": "code",
   "execution_count": 58,
   "id": "87a32c31",
   "metadata": {},
   "outputs": [
    {
     "data": {
      "text/plain": [
       "[0.0, 0.0, 0.8, 0.0, 0.0]"
      ]
     },
     "execution_count": 58,
     "metadata": {},
     "output_type": "execute_result"
    }
   ],
   "source": [
    "sExact "
   ]
  },
  {
   "cell_type": "code",
   "execution_count": 59,
   "id": "84ed2d45",
   "metadata": {},
   "outputs": [
    {
     "data": {
      "text/plain": [
       "[0.0, 0.1, 0.0, 0.0, 0.0]"
      ]
     },
     "execution_count": 59,
     "metadata": {},
     "output_type": "execute_result"
    }
   ],
   "source": [
    "sUnder"
   ]
  },
  {
   "cell_type": "code",
   "execution_count": 60,
   "id": "8f756724",
   "metadata": {},
   "outputs": [
    {
     "data": {
      "text/plain": [
       "[0.0, 0.0, 0.0, 0.1, 0.0]"
      ]
     },
     "execution_count": 60,
     "metadata": {},
     "output_type": "execute_result"
    }
   ],
   "source": [
    "sOver"
   ]
  },
  {
   "cell_type": "code",
   "execution_count": 61,
   "id": "687f5ed5",
   "metadata": {},
   "outputs": [
    {
     "data": {
      "text/plain": [
       "[0.0, 0.1, 0.8, 0.1, 0.0]"
      ]
     },
     "execution_count": 61,
     "metadata": {},
     "output_type": "execute_result"
    }
   ],
   "source": [
    "list(map(lambda x,y,z:x+y+z, sExact, sUnder, sOver ))"
   ]
  },
  {
   "cell_type": "code",
   "execution_count": null,
   "id": "ddcb4a4f",
   "metadata": {},
   "outputs": [],
   "source": [
    "p = [0,1,0,0,0]\n",
    "pExact = 0.8\n",
    "pOvershoot = 0.1\n",
    "pUndershoot = 0.1\n",
    "\n",
    "def inexact_move(p, U):\n",
    "    sExact = [pExact * p[(i - U) % len(p)] for i in range(len(p))]\n",
    "    sUnder = [pUndershoot * p[(i - U + 1) % len(p)] for i in range(len(p))]\n",
    "    sOver = [pOvershoot * p[(i - U - 1) % len(p)] for i in range(len(p))]\n",
    "    sTotalProbability = list(map(lambda x,y,z:x+y+z, sExact, sUnder, sOver ))\n",
    "    \n",
    "    return sTotalProbalitity"
   ]
  },
  {
   "cell_type": "code",
   "execution_count": null,
   "id": "384c9219",
   "metadata": {},
   "outputs": [],
   "source": []
  }
 ],
 "metadata": {
  "kernelspec": {
   "display_name": "Python 3 (ipykernel)",
   "language": "python",
   "name": "python3"
  },
  "language_info": {
   "codemirror_mode": {
    "name": "ipython",
    "version": 3
   },
   "file_extension": ".py",
   "mimetype": "text/x-python",
   "name": "python",
   "nbconvert_exporter": "python",
   "pygments_lexer": "ipython3",
   "version": "3.9.12"
  }
 },
 "nbformat": 4,
 "nbformat_minor": 5
}

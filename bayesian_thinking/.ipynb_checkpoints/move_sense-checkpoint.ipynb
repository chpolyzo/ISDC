{
 "cells": [
  {
   "cell_type": "markdown",
   "id": "e12acd03",
   "metadata": {},
   "source": [
    "### Clarification Regarding Entropy\n",
    "\n",
    "The [video](https://youtu.be/1s2dRczcu1A) mentions that entropy will decrease after the motion update step and that entropy will increase after measurement step. What is meant is that that entropy will decrease after the measurement update (sense) step and that entropy will increase after the movement step (move).\n",
    "\n",
    "In general, entropy represents the amount of uncertainty in a system. Since the measurement update step decreases uncertainty, entropy will decrease. The movement step increases uncertainty, so entropy will increase after this step.\n",
    "\n",
    "Let's look at our current example where the robot could be at one of five different positions. The maximum uncertainty occurs when all positions have equal probabilities \n",
    "\n",
    "Following the formula $Entropy = -\\sum p(x_i)logp(x_i)$ we get: -5 * 0.2 * log (0.2) = 0.699\n",
    "\n",
    "Taking a measurement will decrease uncertainty and entropy. Let's say after taking a measurement, the probabilities become \"[0.05, 0.05, 0.05, 0.8, 0.05]\". Now we have a more certain guess as to where the robot is located and our entropy has decreased to 0.338."
   ]
  },
  {
   "cell_type": "markdown",
   "id": "16780c0d",
   "metadata": {},
   "source": [
    "This is the theory in BAYESIAN THINKING video 35 but I cannot understand how this connects to the explanatory [video](https://youtu.be/K8g3Hss8Q1A) and the results below"
   ]
  },
  {
   "cell_type": "code",
   "execution_count": 1,
   "id": "5dd5e258",
   "metadata": {},
   "outputs": [],
   "source": [
    "# set all variables as global variables\n",
    "p=[0.2, 0.2, 0.2, 0.2, 0.2]\n",
    "world=['green', 'red', 'red', 'green', 'green']\n",
    "measurements = ['red', 'green']\n",
    "motions = [1, 1]\n",
    "pHit = 0.6\n",
    "pMiss = 0.2\n",
    "pExact = 0.8\n",
    "pOvershoot = 0.1\n",
    "pUndershoot = 0.1"
   ]
  },
  {
   "cell_type": "code",
   "execution_count": 2,
   "id": "997c6d80",
   "metadata": {},
   "outputs": [],
   "source": [
    "# your solution\n",
    "def sense_m(p, world, Z):\n",
    "    q = list()\n",
    "    for i in range(len(p)):\n",
    "        hit = (Z == world[i])\n",
    "        q.append(p[i] * (hit * pHit + (1-hit) * pMiss))\n",
    "    \n",
    "    total = sum(q)\n",
    "    for i, v in enumerate(q):\n",
    "        q[i] = q[i]/total\n",
    "    return q\n",
    "\n",
    "\n",
    "def move_m(p, U):\n",
    "    q = []\n",
    "    for i in range(len(p)):\n",
    "        s = pExact * p[(i-U) % len(p)]\n",
    "        s = s + pOvershoot * p[(i-U-1) % len(p)]\n",
    "        s = s + pUndershoot * p[(i-U+1) % len(p)]\n",
    "        q.append(s)\n",
    "    return q"
   ]
  },
  {
   "cell_type": "code",
   "execution_count": 3,
   "id": "00b1df04",
   "metadata": {},
   "outputs": [],
   "source": [
    "# my solution\n",
    "def sense_c(prior, world, color):\n",
    "    multiplier = lambda color: pHit if color == 'red' else pMiss # create multiplier function\n",
    "    multiplier_list = list(map(multiplier, world)) # calculate multiplier list\n",
    "    priorPerMultiplier = list(map(lambda x,y:x*y,prior,multiplier_list)) # update after new multiplier (evidence)\n",
    "    total = sum(priorPerMultiplier) # calculate sum of normalized values\n",
    "    posterior = list(map(lambda i:i/total,priorPerMultiplier))\n",
    "    return posterior\n",
    "\n",
    "def move_c(p, U):\n",
    "    sE = [pExact * p[(i - U) % len(p)] for i in range(len(p))]\n",
    "    sU = [pUndershoot * p[(i - U + 1) % len(p)] for i in range(len(p))]\n",
    "    sO = [pOvershoot * p[(i - U - 1) % len(p)] for i in range(len(p))]\n",
    "    s = list(map(lambda x, y, z: x + y + z, sE, sU, sO ))\n",
    "    \n",
    "    return s"
   ]
  },
  {
   "cell_type": "code",
   "execution_count": 4,
   "id": "5fd3bc06",
   "metadata": {},
   "outputs": [
    {
     "data": {
      "text/plain": [
       "True"
      ]
     },
     "execution_count": 4,
     "metadata": {},
     "output_type": "execute_result"
    }
   ],
   "source": [
    "# Is my sense exactly your sense?\n",
    "sense_c(p, world, measurements[0]) == sense_m(p, world, measurements[0])"
   ]
  },
  {
   "cell_type": "code",
   "execution_count": 5,
   "id": "076106cd",
   "metadata": {},
   "outputs": [
    {
     "data": {
      "text/plain": [
       "False"
      ]
     },
     "execution_count": 5,
     "metadata": {},
     "output_type": "execute_result"
    }
   ],
   "source": [
    "sense_c is sense_m"
   ]
  },
  {
   "cell_type": "code",
   "execution_count": 6,
   "id": "8a42f661",
   "metadata": {},
   "outputs": [
    {
     "data": {
      "text/plain": [
       "True"
      ]
     },
     "execution_count": 6,
     "metadata": {},
     "output_type": "execute_result"
    }
   ],
   "source": [
    "# Is my move exactry your move?\n",
    "move_c(p,motions[0]) == move_m(p,motions[0])"
   ]
  },
  {
   "cell_type": "code",
   "execution_count": 7,
   "id": "6c592116",
   "metadata": {},
   "outputs": [
    {
     "data": {
      "text/plain": [
       "False"
      ]
     },
     "execution_count": 7,
     "metadata": {},
     "output_type": "execute_result"
    }
   ],
   "source": [
    "move_c is move_m"
   ]
  },
  {
   "cell_type": "code",
   "execution_count": 8,
   "id": "af1a80d5",
   "metadata": {},
   "outputs": [
    {
     "name": "stdout",
     "output_type": "stream",
     "text": [
      "[0.1111111111111111, 0.3333333333333332, 0.3333333333333332, 0.1111111111111111, 0.1111111111111111]\n",
      "[0.11111111111111112, 0.13333333333333333, 0.311111111111111, 0.311111111111111, 0.1333333333333333]\n",
      "[0.1578947368421053, 0.06315789473684212, 0.1473684210526316, 0.44210526315789467, 0.1894736842105263]\n",
      "[0.21157894736842103, 0.1515789473684211, 0.08105263157894739, 0.16842105263157897, 0.3873684210526316]\n",
      "[0.21157894736842103, 0.1515789473684211, 0.08105263157894739, 0.16842105263157897, 0.3873684210526316]\n"
     ]
    }
   ],
   "source": [
    "p_m = [0.2, 0.2, 0.2, 0.2, 0.2]\n",
    "for k in range(len(measurements)):\n",
    "    p_m = sense_m(p_m, world, measurements[k])\n",
    "    print(p_m)\n",
    "    p_m = move_m(p_m, motions[k])\n",
    "    print(p_m)\n",
    "print(p_m)"
   ]
  },
  {
   "cell_type": "code",
   "execution_count": 9,
   "id": "7d992513",
   "metadata": {},
   "outputs": [
    {
     "name": "stdout",
     "output_type": "stream",
     "text": [
      "[0.1111111111111111, 0.3333333333333332, 0.3333333333333332, 0.1111111111111111, 0.1111111111111111]\n",
      "[0.11111111111111112, 0.1333333333333333, 0.311111111111111, 0.311111111111111, 0.13333333333333333]\n",
      "[0.058823529411764726, 0.2117647058823529, 0.49411764705882344, 0.16470588235294117, 0.07058823529411766]\n",
      "[0.07882352941176472, 0.07529411764705884, 0.22470588235294117, 0.4329411764705882, 0.18823529411764706]\n",
      "[0.07882352941176472, 0.07529411764705884, 0.22470588235294117, 0.4329411764705882, 0.18823529411764706]\n"
     ]
    }
   ],
   "source": [
    "p_c = [0.2, 0.2, 0.2, 0.2, 0.2]\n",
    "for k in range(len(measurements)):\n",
    "    p_c = sense_c(p_c, world, measurements[k])\n",
    "    print(p_c)\n",
    "    p_c = move_c(p_c, motions[k])\n",
    "    print(p_c)\n",
    "print(p_c)"
   ]
  },
  {
   "cell_type": "code",
   "execution_count": 10,
   "id": "b1a5924d",
   "metadata": {},
   "outputs": [
    {
     "data": {
      "text/plain": [
       "False"
      ]
     },
     "execution_count": 10,
     "metadata": {},
     "output_type": "execute_result"
    }
   ],
   "source": [
    "p_m is p_c"
   ]
  },
  {
   "cell_type": "code",
   "execution_count": 11,
   "id": "f595878e",
   "metadata": {},
   "outputs": [
    {
     "data": {
      "text/plain": [
       "False"
      ]
     },
     "execution_count": 11,
     "metadata": {},
     "output_type": "execute_result"
    }
   ],
   "source": [
    "p_m == p_c"
   ]
  },
  {
   "cell_type": "markdown",
   "id": "093e8fb2",
   "metadata": {},
   "source": [
    "My dear mentor it looks that while senses are equal (not identical) we move quite differently!"
   ]
  }
 ],
 "metadata": {
  "kernelspec": {
   "display_name": "Python 3 (ipykernel)",
   "language": "python",
   "name": "python3"
  },
  "language_info": {
   "codemirror_mode": {
    "name": "ipython",
    "version": 3
   },
   "file_extension": ".py",
   "mimetype": "text/x-python",
   "name": "python",
   "nbconvert_exporter": "python",
   "pygments_lexer": "ipython3",
   "version": "3.9.12"
  }
 },
 "nbformat": 4,
 "nbformat_minor": 5
}

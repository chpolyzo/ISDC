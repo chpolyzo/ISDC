{
 "cells": [
  {
   "cell_type": "markdown",
   "id": "e12acd03",
   "metadata": {},
   "source": [
    "### Clarification Regarding Entropy\n",
    "\n",
    "The [video](https://youtu.be/1s2dRczcu1A) mentions that entropy will decrease after the motion update step and that entropy will increase after measurement step. What is meant is that that entropy will decrease after the measurement update (sense) step and that entropy will increase after the movement step (move).\n",
    "\n",
    "In general, entropy represents the amount of uncertainty in a system. Since the measurement update step decreases uncertainty, entropy will decrease. The movement step increases uncertainty, so entropy will increase after this step.\n",
    "\n",
    "Let's look at our current example where the robot could be at one of five different positions. The maximum uncertainty occurs when all positions have equal probabilities \n",
    "\n",
    "Following the formula $Entropy = -\\sum p(x_i)logp(x_i)$ we get: -5 * 0.2 * log (0.2) = 0.699\n",
    "\n",
    "Taking a measurement will decrease uncertainty and entropy. Let's say after taking a measurement, the probabilities become \"[0.05, 0.05, 0.05, 0.8, 0.05]\". Now we have a more certain guess as to where the robot is located and our entropy has decreased to 0.338."
   ]
  },
  {
   "cell_type": "code",
   "execution_count": 14,
   "id": "be941959",
   "metadata": {},
   "outputs": [],
   "source": [
    "prior = [0.2 for i in range(5)]\n",
    "world=['green', 'red', 'red', 'green', 'green']\n",
    "color = 'red'\n",
    "def sense(prior, world, color):\n",
    "    pHit = 0.6\n",
    "    pMiss = 0.2\n",
    "    multiplier = lambda color: pHit if color == 'red' else pMiss # create multiplier function\n",
    "    multiplier_list = list(map(multiplier, world)) # calculate multiplier list\n",
    "    priorPerMultiplier = list(map(lambda x,y:x*y,prior,multiplier_list)) # update after new multiplier (evidence)\n",
    "    total = sum(priorPerMultiplier) # \n",
    "    posterior = list(map(lambda i:i/total,priorPerMultiplier))\n",
    "    return posterior\n",
    "\n",
    "p = [0,1,0,0,0]\n",
    "def move(p, U):\n",
    "    pExact = 0.8\n",
    "    pOvershoot = 0.1\n",
    "    pUndershoot = 0.1\n",
    "    sExact = [pExact * p[(i - U) % len(p)] for i in range(len(p))]\n",
    "    sUnder = [pUndershoot * p[(i - U + 1) % len(p)] for i in range(len(p))]\n",
    "    sOver = [pOvershoot * p[(i - U - 1) % len(p)] for i in range(len(p))]\n",
    "    sTotalProbability = list(map(lambda x,y,z:x+y+z, sExact, sUnder, sOver ))\n",
    "    \n",
    "    return sTotalProbability"
   ]
  },
  {
   "cell_type": "code",
   "execution_count": 18,
   "id": "bbf75cf7",
   "metadata": {},
   "outputs": [
    {
     "name": "stdout",
     "output_type": "stream",
     "text": [
      "[0.003571428571428572, 0.010714285714285713, 0.1714285714285714, 0.6999999999999998, 0.11428571428571428]\n"
     ]
    }
   ],
   "source": [
    "measurements = ['red', 'green']\n",
    "motions = [1,1]\n",
    "p = [0,1,0,0,0]\n",
    "\n",
    "for k in range(len(measurements)):\n",
    "    p = sense(p, world, measurements[k])\n",
    "    p = move(p, motions[k])\n",
    "print(p)"
   ]
  },
  {
   "cell_type": "markdown",
   "id": "16780c0d",
   "metadata": {},
   "source": [
    "This is the theory in BAYESIAN THINKING video 35 but I cannot understand how this connects to the explanatory [video](https://youtu.be/K8g3Hss8Q1A) and the results below"
   ]
  },
  {
   "cell_type": "code",
   "execution_count": 19,
   "id": "c9ee2e31",
   "metadata": {},
   "outputs": [
    {
     "name": "stdout",
     "output_type": "stream",
     "text": [
      "[0.20571428571428574, 0.2488888888888889, 0.32698412698412704, 0.13206349206349208, 0.08634920634920636]\n"
     ]
    }
   ],
   "source": [
    "# Given the list motions=[1, 1] which means the robot \n",
    "# moves right and then right again, compute the posterior \n",
    "# distribution if the robot first senses red, then moves \n",
    "# right one, senses green, and moves right again, \n",
    "# starting with a uniform prior distribution.\n",
    "\n",
    "p=[0.2, 0.2, 0.2, 0.2, 0.2]\n",
    "world=['green', 'red', 'red', 'green', 'green']\n",
    "measurements = ['red', 'green']\n",
    "motions = [1, 1]\n",
    "pHit = 0.6\n",
    "pMiss = 0.2\n",
    "pExact = 0.8\n",
    "pOvershoot = 0.1\n",
    "pUndershoot = 0.1\n",
    "\n",
    "def sense(p, world, Z):\n",
    "    q = list()\n",
    "    for i, v in enumerate(p):\n",
    "        if Z == 'green':\n",
    "            multiplier = pHit if world[i] == 'green' else 1\n",
    "        if Z == 'red':\n",
    "            multiplier = pMiss if world[i] == 'red' else 1\n",
    "        q.append(v * multiplier)\n",
    "    total = sum(q)\n",
    "    for i, v in enumerate(q):\n",
    "        q[i] = v/total\n",
    "    return q\n",
    "\n",
    "def move(p, U):\n",
    "    q = []\n",
    "    for i in range(len(p)):\n",
    "        s = pExact * p[(i-U) % len(p)]\n",
    "        s = s + pOvershoot * p[(i-U-1) % len(p)]\n",
    "        s = s + pUndershoot * p[(i-U+1) % len(p)]\n",
    "        q.append(s)\n",
    "    return q\n",
    "\n",
    "for k in range(len(measurements)):\n",
    "    p = sense(p, world, measurements[k])\n",
    "    p = move(p, motions[k])\n",
    "print(p)"
   ]
  },
  {
   "cell_type": "code",
   "execution_count": null,
   "id": "997c6d80",
   "metadata": {},
   "outputs": [],
   "source": []
  }
 ],
 "metadata": {
  "kernelspec": {
   "display_name": "Python 3 (ipykernel)",
   "language": "python",
   "name": "python3"
  },
  "language_info": {
   "codemirror_mode": {
    "name": "ipython",
    "version": 3
   },
   "file_extension": ".py",
   "mimetype": "text/x-python",
   "name": "python",
   "nbconvert_exporter": "python",
   "pygments_lexer": "ipython3",
   "version": "3.9.12"
  }
 },
 "nbformat": 4,
 "nbformat_minor": 5
}

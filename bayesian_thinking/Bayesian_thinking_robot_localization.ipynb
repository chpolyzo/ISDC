{
 "cells": [
  {
   "cell_type": "markdown",
   "id": "a603009e",
   "metadata": {},
   "source": [
    "In the following videos\n",
    "1. [Normalized Sense Function - Artificial Intelligence for Robotics - first video](https://youtu.be/GqWszyHTYas) \n",
    "2. [Normalized Sense Function - Artificial Intelligence for Robotics - second video](https://youtu.be/UX3W8TUKbJ0)\n",
    "is shown how to calculate the posterior probability.\n",
    "\n",
    "However the solution provided in the classroom is different than the one explained int he video. Posterior probabilities do not match the ones explained through the lesson."
   ]
  },
  {
   "cell_type": "markdown",
   "id": "a781d0c5",
   "metadata": {},
   "source": [
    "This is the solution provided in class in section 18, 19,\n",
    "\n",
    "__Bayesian Thinking__ \n",
    "\n",
    "_Robot Localization_:"
   ]
  },
  {
   "cell_type": "code",
   "execution_count": 2,
   "id": "37c17b3f",
   "metadata": {},
   "outputs": [],
   "source": [
    "#Modify your code so that it normalizes the output for \n",
    "#the function sense. This means that the entries in q \n",
    "#should sum to one.\n",
    "\n",
    "p=[0.2, 0.2, 0.2, 0.2, 0.2]\n",
    "world=['green', 'red', 'red', 'green', 'green']\n",
    "Z = 'red'\n",
    "pHit = 0.6\n",
    "pMiss = 0.2\n",
    "\n",
    "def sense(p, world, Z):\n",
    "    q = list()\n",
    "    for i, v in enumerate(p):\n",
    "        if Z == 'green':\n",
    "            multiplier = pHit if world[i] == 'green' else 1\n",
    "        if Z == 'red':\n",
    "            multiplier = pMiss if world[i] == 'red' else 1\n",
    "        q.append(v * multiplier)\n",
    "    total = sum(q)\n",
    "    for i, v in enumerate(q):\n",
    "        q[i] = v/total\n",
    "    return q"
   ]
  },
  {
   "cell_type": "markdown",
   "id": "527ffee8",
   "metadata": {},
   "source": [
    "This is my calculation:"
   ]
  },
  {
   "cell_type": "code",
   "execution_count": 7,
   "id": "a6afff9b",
   "metadata": {},
   "outputs": [],
   "source": [
    "prior = [0.2 for i in range(5)]\n",
    "world=['green', 'red', 'red', 'green', 'green']\n",
    "Z = 'red'\n",
    "pHit = 0.6\n",
    "pMiss = 0.2\n",
    "\n",
    "def crysanthi_sense(prior, world, color):\n",
    "    multiplier = lambda color: pHit if color == 'red' else pMiss\n",
    "    pre_posterior = list(map(multiplier, world))\n",
    "    print(f\"Multipliers are {pre_posterior}\")\n",
    "    priorPerPrePosterior = list(map(lambda x,y:x*y,prior,pre_posterior))\n",
    "    print(f\"Non normalized posterors are {priorPerPrePosterior}\")\n",
    "    total = sum(priorPerPrePosterior)\n",
    "    print(f\"Τotal Probability is {total}\")\n",
    "    posterior = list(map(lambda i:i/total,priorPerPrePosterior))\n",
    "    print(f\"Posterior probabilities are {posterior}\")\n",
    "    return posterior"
   ]
  },
  {
   "cell_type": "code",
   "execution_count": 8,
   "id": "11db9e0c",
   "metadata": {},
   "outputs": [
    {
     "name": "stdout",
     "output_type": "stream",
     "text": [
      "Multipliers are [0.2, 0.6, 0.6, 0.2, 0.2]\n",
      "Non normalized posterors are [0.04000000000000001, 0.12, 0.12, 0.04000000000000001, 0.04000000000000001]\n",
      "Τotal Probability is 0.3600000000000001\n",
      "Posterior probabilities are [0.1111111111111111, 0.3333333333333332, 0.3333333333333332, 0.1111111111111111, 0.1111111111111111]\n"
     ]
    },
    {
     "data": {
      "text/plain": [
       "[0.1111111111111111,\n",
       " 0.3333333333333332,\n",
       " 0.3333333333333332,\n",
       " 0.1111111111111111,\n",
       " 0.1111111111111111]"
      ]
     },
     "execution_count": 8,
     "metadata": {},
     "output_type": "execute_result"
    }
   ],
   "source": [
    "crysanthi_sense(prior, world, Z)"
   ]
  },
  {
   "cell_type": "code",
   "execution_count": 9,
   "id": "d86a2b8e",
   "metadata": {},
   "outputs": [
    {
     "data": {
      "text/plain": [
       "[0.29411764705882354,\n",
       " 0.05882352941176471,\n",
       " 0.05882352941176471,\n",
       " 0.29411764705882354,\n",
       " 0.29411764705882354]"
      ]
     },
     "execution_count": 9,
     "metadata": {},
     "output_type": "execute_result"
    }
   ],
   "source": [
    "sense(p, world, Z)"
   ]
  },
  {
   "cell_type": "code",
   "execution_count": null,
   "id": "d7ea2887",
   "metadata": {},
   "outputs": [],
   "source": []
  }
 ],
 "metadata": {
  "kernelspec": {
   "display_name": "Python 3 (ipykernel)",
   "language": "python",
   "name": "python3"
  },
  "language_info": {
   "codemirror_mode": {
    "name": "ipython",
    "version": 3
   },
   "file_extension": ".py",
   "mimetype": "text/x-python",
   "name": "python",
   "nbconvert_exporter": "python",
   "pygments_lexer": "ipython3",
   "version": "3.9.12"
  }
 },
 "nbformat": 4,
 "nbformat_minor": 5
}

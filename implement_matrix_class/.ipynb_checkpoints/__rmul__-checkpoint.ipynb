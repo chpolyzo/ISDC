{
 "cells": [
  {
   "cell_type": "code",
   "execution_count": 14,
   "id": "097a040b",
   "metadata": {},
   "outputs": [],
   "source": [
    "import math\n",
    "from math import sqrt\n",
    "import numbers\n",
    "\n",
    "\n",
    "def zeroes(height, width):\n",
    "        \"\"\"\n",
    "        Creates a matrix of zeroes.\n",
    "        \"\"\"\n",
    "        g = [[0.0 for _ in range(width)] for __ in range(height)]\n",
    "        return Matrix(g)\n",
    "\n",
    "\n",
    "def identity(n):\n",
    "        \"\"\"\n",
    "        Creates a n x n identity matrix.\n",
    "        \"\"\"\n",
    "        I = zeroes(n, n)\n",
    "        for i in range(n):\n",
    "            I.g[i][i] = 1.0\n",
    "        return I\n",
    "    \n",
    "\n",
    "\n",
    "class Matrix(object):\n",
    "\n",
    "    # Constructor\n",
    "    def __init__(self, grid):\n",
    "        self.g = grid\n",
    "        self.h = len(grid)\n",
    "        self.w = len(grid[0])\n",
    "        \n",
    "    def is_square(self):\n",
    "        return self.h == self.w\n",
    "        \n",
    "    def trace(self):\n",
    "        \"\"\"\n",
    "        Calculates the trace of a matrix (sum of diagonal entries).\n",
    "        \"\"\"\n",
    "        if not self.is_square():\n",
    "            raise(ValueError, \"Cannot calculate the trace of a non-square matrix.\")\n",
    "        tr = sum([self.g[i][j] for i in range(self.h) for j in range(self.w) if i == j])\n",
    "\n",
    "        \n",
    "        return tr\n",
    "        \n",
    "    def __rmul__(self, other):\n",
    "        \n",
    "        \n",
    "        \"\"\"\n",
    "        Called when the thing on the left of the * is not a matrix.\n",
    "        Example:\n",
    "        > identity = Matrix([ [1,0], [0,1] ])\n",
    "        > doubled  = 2 * identity\n",
    "        > print(doubled)\n",
    "          2.0  0.0\n",
    "          0.0  2.0\n",
    "        \"\"\"\n",
    "        print(f\"H:{self.h}, W:{self.w}\")\n",
    "        if isinstance(other, numbers.Number):\n",
    "            rmul_ls = [[float(other * self.g[i][j]) for j in range(self.h)] for i in range(self.w)]\n",
    "        return Matrix(rmul_ls)\n",
    "    \n",
    "    def __repr__(self):\n",
    "        \"\"\"\n",
    "        Defines the behavior of calling print on an instance of this class.\n",
    "        \"\"\"\n",
    "        s = \"\"\n",
    "        for row in self.g:\n",
    "            s += \" \".join([\"{} \".format(x) for x in row])\n",
    "            s += \"\\n\"\n",
    "        return s"
   ]
  },
  {
   "cell_type": "code",
   "execution_count": 15,
   "id": "6652dde6",
   "metadata": {},
   "outputs": [
    {
     "name": "stdout",
     "output_type": "stream",
     "text": [
      "H:5, W:5\n"
     ]
    },
    {
     "data": {
      "text/plain": [
       "20.0"
      ]
     },
     "execution_count": 15,
     "metadata": {},
     "output_type": "execute_result"
    }
   ],
   "source": [
    "(identity(5).__rmul__(4)).trace()"
   ]
  },
  {
   "cell_type": "code",
   "execution_count": 16,
   "id": "b08a8eb4",
   "metadata": {},
   "outputs": [],
   "source": [
    "import matrix as m"
   ]
  },
  {
   "cell_type": "code",
   "execution_count": 19,
   "id": "e1b8b8bd",
   "metadata": {},
   "outputs": [
    {
     "data": {
      "text/plain": [
       "20.0"
      ]
     },
     "execution_count": 19,
     "metadata": {},
     "output_type": "execute_result"
    }
   ],
   "source": [
    "(4*m.identity(5)).trace()"
   ]
  },
  {
   "cell_type": "code",
   "execution_count": null,
   "id": "79457f31",
   "metadata": {},
   "outputs": [],
   "source": []
  }
 ],
 "metadata": {
  "kernelspec": {
   "display_name": "Python 3 (ipykernel)",
   "language": "python",
   "name": "python3"
  },
  "language_info": {
   "codemirror_mode": {
    "name": "ipython",
    "version": 3
   },
   "file_extension": ".py",
   "mimetype": "text/x-python",
   "name": "python",
   "nbconvert_exporter": "python",
   "pygments_lexer": "ipython3",
   "version": "3.9.12"
  }
 },
 "nbformat": 4,
 "nbformat_minor": 5
}

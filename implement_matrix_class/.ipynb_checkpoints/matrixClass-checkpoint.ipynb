{
 "cells": [
  {
   "cell_type": "markdown",
   "id": "4d9994dd",
   "metadata": {},
   "source": [
    "Important notation on the determinant\n",
    "\n",
    "1. [Inverse matrices, column space and null space | Chapter 7, Essence of linear algebra](https://youtu.be/uQhTuRlWMxw)\n",
    "2. [Invertible and noninvertibles matrices](https://youtu.be/kR9rO-6Y2Zk)"
   ]
  },
  {
   "cell_type": "code",
   "execution_count": 1,
   "id": "9101dc09",
   "metadata": {},
   "outputs": [],
   "source": [
    "import math\n",
    "from math import sqrt\n",
    "import numbers\n",
    "\n",
    "def zeroes(height, width):\n",
    "        \"\"\"\n",
    "        Creates a matrix of zeroes.\n",
    "        \"\"\"\n",
    "        g = [[0.0 for _ in range(width)] for __ in range(height)]\n",
    "        return Matrix(g)\n",
    "\n",
    "def identity(n):\n",
    "        \"\"\"\n",
    "        Creates a n x n identity matrix.\n",
    "        \"\"\"\n",
    "        I = zeroes(n, n)\n",
    "        for i in range(n):\n",
    "            I.g[i][i] = 1.0\n",
    "        return I\n",
    "\n",
    "class Matrix(object):\n",
    "\n",
    "    # Constructor\n",
    "    def __init__(self, grid):\n",
    "        self.g = grid\n",
    "        self.h = len(grid)\n",
    "        self.w = len(grid[0])\n",
    "        \n",
    "    def __str__(self):\n",
    "        return f\"Matrix({self.g})\"\n",
    "        \n",
    "    def is_square(self):\n",
    "        return self.h == self.w\n",
    "        \n",
    "        \n",
    "        \n",
    "    def determinant(self):\n",
    "        \"\"\"\n",
    "        Calculates the determinant of a 1x1 or 2x2 matrix.\n",
    "        \"\"\"\n",
    "        if not self.is_square():\n",
    "            raise(ValueError, \"Cannot calculate determinant of non-square matrix.\")\n",
    "        if self.h > 2:\n",
    "            raise(NotImplementedError, \"Calculating determinant not implemented for matrices largerer than 2x2.\")\n",
    "            \n",
    "        try:\n",
    "            det = (self.g[0][0] * self.g[1][1] - self.g[1][0] * self.g[0][1])\n",
    "        except:\n",
    "            det = self.g[0][0]\n",
    "        return det\n",
    "    \n",
    "    def trace(self):\n",
    "        \"\"\"\n",
    "        Calculates the trace of a matrix (sum of diagonal entries).\n",
    "        \"\"\"\n",
    "        if not self.is_square():\n",
    "            raise(ValueError, \"Cannot calculate the trace of a non-square matrix.\")\n",
    "        \n",
    "        tr = sum([self.g[i][j] for i in range(len(self.g)) for j in range(len(self.g[0])) if i == j])\n",
    "        \n",
    "        return tr\n",
    "    \n",
    "#     def inverse(self):\n",
    "#         \"\"\"\n",
    "#         Calculates the inverse of a 1x1 or 2x2 Matrix.\n",
    "#         \"\"\"\n",
    "#         if not self.is_square():\n",
    "#             raise(ValueError, \"Non-square Matrix does not have an inverse.\")\n",
    "#         if self.h > 2:\n",
    "#             raise(NotImplementedError, \"inversion not implemented for matrices larger than 2x2.\")\n",
    "            \n",
    "#         adjoint = 1 / (self.g[0][0] * self.g[1][1] - self.g[0][1] * self.g[1][0])\n",
    "#         swap = [[self.g[1][1], -self.g[0][1]],[-self.g[1][0], self.g[0][0]]]\n",
    "            \n",
    "#         for i in range(len(swap)):\n",
    "#                     for j in range(len(swap[0])):\n",
    "#                         swap[i][j] = adjoint * swap[i][j]\n",
    "                        \n",
    "            \n",
    "#         return Matrix(swap)\n",
    "    \n",
    "    def inverse(self):\n",
    "        \"\"\"\n",
    "        Calculates the inverse of a 1x1 or 2x2 Matrix.\n",
    "        \"\"\"\n",
    "        if not self.is_square():\n",
    "            raise(ValueError, \"Non-square Matrix does not have an inverse.\")\n",
    "        if self.h > 2:\n",
    "            raise(NotImplementedError, \"inversion not implemented for matrices larger than 2x2.\")\n",
    "            \n",
    "        adjoint = 1 / (self.g[0][0] * self.g[1][1] - self.g[0][1] * self.g[1][0])\n",
    "        swap = [[self.g[1][1], -self.g[0][1]],[-self.g[1][0], self.g[0][0]]]\n",
    "            \n",
    "        inv = [adjoint * swap[i][j] for i in range(len(swap)) for j in range(len(swap[0]))]\n",
    "                        \n",
    "        return Matrix([[inv[0], inv[1]],[inv[2], inv[3]]])\n",
    "\n",
    "\n",
    "    \n",
    "    def __repr__(self):\n",
    "        \"\"\"\n",
    "        Defines the behavior of calling print on an instance of this class.\n",
    "        \"\"\"\n",
    "        s = \"\"\n",
    "        for row in self.g:\n",
    "            s += \" \".join([\"{} \".format(x) for x in row])\n",
    "            s += \"\\n\"\n",
    "        return s"
   ]
  },
  {
   "cell_type": "code",
   "execution_count": 2,
   "id": "8ed4adf3",
   "metadata": {},
   "outputs": [],
   "source": [
    "m1 = Matrix([\n",
    "    [1, 2],\n",
    "    [3, 4]\n",
    "])\n",
    "\n",
    "m2 = Matrix([\n",
    "    [2, 5],\n",
    "    [6, 1]\n",
    "])\n",
    "\n",
    "m3 = Matrix([[5]])\n"
   ]
  },
  {
   "cell_type": "code",
   "execution_count": 3,
   "id": "80798332",
   "metadata": {},
   "outputs": [
    {
     "data": {
      "text/plain": [
       "5"
      ]
     },
     "execution_count": 3,
     "metadata": {},
     "output_type": "execute_result"
    }
   ],
   "source": [
    "m1.trace()"
   ]
  },
  {
   "cell_type": "code",
   "execution_count": 4,
   "id": "bdd89a9b",
   "metadata": {},
   "outputs": [
    {
     "data": {
      "text/plain": [
       "5"
      ]
     },
     "execution_count": 4,
     "metadata": {},
     "output_type": "execute_result"
    }
   ],
   "source": [
    "m3.trace()"
   ]
  },
  {
   "cell_type": "code",
   "execution_count": 5,
   "id": "2927ebbe",
   "metadata": {},
   "outputs": [
    {
     "data": {
      "text/plain": [
       "1  2 \n",
       "3  4 "
      ]
     },
     "execution_count": 5,
     "metadata": {},
     "output_type": "execute_result"
    }
   ],
   "source": [
    "m1"
   ]
  },
  {
   "cell_type": "code",
   "execution_count": 6,
   "id": "38eb3cfd",
   "metadata": {},
   "outputs": [
    {
     "data": {
      "text/plain": [
       "-2.0  1.0 \n",
       "1.5  -0.5 "
      ]
     },
     "execution_count": 6,
     "metadata": {},
     "output_type": "execute_result"
    }
   ],
   "source": [
    "m1.inverse()"
   ]
  },
  {
   "cell_type": "code",
   "execution_count": null,
   "id": "3ee13214",
   "metadata": {},
   "outputs": [],
   "source": []
  }
 ],
 "metadata": {
  "kernelspec": {
   "display_name": "Python 3 (ipykernel)",
   "language": "python",
   "name": "python3"
  },
  "language_info": {
   "codemirror_mode": {
    "name": "ipython",
    "version": 3
   },
   "file_extension": ".py",
   "mimetype": "text/x-python",
   "name": "python",
   "nbconvert_exporter": "python",
   "pygments_lexer": "ipython3",
   "version": "3.7.12"
  }
 },
 "nbformat": 4,
 "nbformat_minor": 5
}

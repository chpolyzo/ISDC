{
 "cells": [
  {
   "cell_type": "markdown",
   "id": "4d9994dd",
   "metadata": {},
   "source": [
    "Important notation on the determinant\n",
    "\n",
    "1. [Inverse matrices, column space and null space | Chapter 7, Essence of linear algebra](https://youtu.be/uQhTuRlWMxw)\n",
    "2. [Invertible and noninvertibles matrices](https://youtu.be/kR9rO-6Y2Zk)"
   ]
  },
  {
   "cell_type": "code",
   "execution_count": 57,
   "id": "9101dc09",
   "metadata": {},
   "outputs": [],
   "source": [
    "import math\n",
    "from math import sqrt\n",
    "import numbers\n",
    "\n",
    "def zeroes(height, width):\n",
    "        \"\"\"\n",
    "        Creates a matrix of zeroes.\n",
    "        \"\"\"\n",
    "        g = [[0.0 for _ in range(width)] for __ in range(height)]\n",
    "        return Matrix(g)\n",
    "\n",
    "def identity(n):\n",
    "        \"\"\"\n",
    "        Creates a n x n identity matrix.\n",
    "        \"\"\"\n",
    "        I = zeroes(n, n)\n",
    "        for i in range(n):\n",
    "            I.g[i][i] = 1.0\n",
    "        return I\n",
    "\n",
    "class Matrix(object):\n",
    "\n",
    "    # Constructor\n",
    "    def __init__(self, grid):\n",
    "        self.g = grid\n",
    "        self.h = len(grid)\n",
    "        self.w = len(grid[0])\n",
    "        \n",
    "    def __str__(self):\n",
    "        return f\"Matrix({self.g})\"\n",
    "        \n",
    "    def is_square(self):\n",
    "        return self.h == self.w\n",
    "        \n",
    "        \n",
    "        \n",
    "    def determinant(self):\n",
    "        \"\"\"\n",
    "        Calculates the determinant of a 1x1 or 2x2 matrix.\n",
    "        \"\"\"\n",
    "        if not self.is_square():\n",
    "            raise(ValueError, \"Cannot calculate determinant of non-square matrix.\")\n",
    "        if self.h > 2:\n",
    "            raise(NotImplementedError, \"Calculating determinant not implemented for matrices largerer than 2x2.\")\n",
    "            \n",
    "        while True:\n",
    "            try:\n",
    "                det = (self.g[0][0] * self.g[1][1] - self.g[1][0] * self.g[0][1])\n",
    "                break\n",
    "            except ValueError:\n",
    "                print(\"Cannot calculate determinant\")\n",
    "            else:\n",
    "                det = self.g\n",
    "                \n",
    "        return det\n",
    "    \n",
    "    def __repr__(self):\n",
    "        \"\"\"\n",
    "        Defines the behavior of calling print on an instance of this class.\n",
    "        \"\"\"\n",
    "        s = \"\"\n",
    "        for row in self.g:\n",
    "            s += \" \".join([\"{} \".format(x) for x in row])\n",
    "            s += \"\\n\"\n",
    "        return s"
   ]
  },
  {
   "cell_type": "code",
   "execution_count": 58,
   "id": "e44d1975",
   "metadata": {},
   "outputs": [],
   "source": [
    "m1 = Matrix([\n",
    "    [1, 2],\n",
    "    [3, 4]\n",
    "])\n",
    "\n",
    "m2 = Matrix([\n",
    "    [2, 5],\n",
    "    [6, 1]\n",
    "])\n"
   ]
  },
  {
   "cell_type": "code",
   "execution_count": 59,
   "id": "cec5845d",
   "metadata": {},
   "outputs": [
    {
     "data": {
      "text/plain": [
       "0.0  0.0  0.0 \n",
       "0.0  0.0  0.0 "
      ]
     },
     "execution_count": 59,
     "metadata": {},
     "output_type": "execute_result"
    }
   ],
   "source": [
    "zeroes(2,3)"
   ]
  },
  {
   "cell_type": "code",
   "execution_count": 60,
   "id": "d32a8054",
   "metadata": {},
   "outputs": [
    {
     "data": {
      "text/plain": [
       "1  2 \n",
       "3  4 "
      ]
     },
     "execution_count": 60,
     "metadata": {},
     "output_type": "execute_result"
    }
   ],
   "source": [
    "m1"
   ]
  },
  {
   "cell_type": "code",
   "execution_count": 61,
   "id": "15d66aaf",
   "metadata": {},
   "outputs": [
    {
     "data": {
      "text/plain": [
       "<bound method Matrix.__str__ of 1  2 \n",
       "3  4 \n",
       ">"
      ]
     },
     "execution_count": 61,
     "metadata": {},
     "output_type": "execute_result"
    }
   ],
   "source": [
    "m1.__str__"
   ]
  },
  {
   "cell_type": "code",
   "execution_count": 62,
   "id": "c9b01a49",
   "metadata": {},
   "outputs": [
    {
     "data": {
      "text/plain": [
       "-2"
      ]
     },
     "execution_count": 62,
     "metadata": {},
     "output_type": "execute_result"
    }
   ],
   "source": [
    "m1.determinant()"
   ]
  },
  {
   "cell_type": "code",
   "execution_count": 63,
   "id": "909abc21",
   "metadata": {},
   "outputs": [
    {
     "data": {
      "text/plain": [
       "1  2 \n",
       "3  4 "
      ]
     },
     "execution_count": 63,
     "metadata": {},
     "output_type": "execute_result"
    }
   ],
   "source": [
    "m1"
   ]
  },
  {
   "cell_type": "code",
   "execution_count": 64,
   "id": "a58af139",
   "metadata": {},
   "outputs": [
    {
     "data": {
      "text/plain": [
       "-2"
      ]
     },
     "execution_count": 64,
     "metadata": {},
     "output_type": "execute_result"
    }
   ],
   "source": [
    "1*4 - 2*3"
   ]
  },
  {
   "cell_type": "code",
   "execution_count": null,
   "id": "6e831fda",
   "metadata": {},
   "outputs": [],
   "source": []
  }
 ],
 "metadata": {
  "kernelspec": {
   "display_name": "Python 3 (ipykernel)",
   "language": "python",
   "name": "python3"
  },
  "language_info": {
   "codemirror_mode": {
    "name": "ipython",
    "version": 3
   },
   "file_extension": ".py",
   "mimetype": "text/x-python",
   "name": "python",
   "nbconvert_exporter": "python",
   "pygments_lexer": "ipython3",
   "version": "3.9.12"
  }
 },
 "nbformat": 4,
 "nbformat_minor": 5
}

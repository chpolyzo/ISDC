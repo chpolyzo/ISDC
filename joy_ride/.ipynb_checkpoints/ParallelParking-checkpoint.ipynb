{
 "cells": [
  {
   "cell_type": "markdown",
   "metadata": {},
   "source": [
    "# Joy Ride - Part 3: Parallel Parking\n",
    "In this section you will write a function that implements the correct sequence of steps required to parallel park a vehicle.\n",
    "\n",
    "NOTE: for this segment the vehicle's maximum speed has been set to just over 4 mph. This should make parking a little easier.\n",
    "\n",
    "![](https://upload.wikimedia.org/wikipedia/commons/2/26/ParallelParkingAnimation.gif)"
   ]
  },
  {
   "cell_type": "markdown",
   "metadata": {},
   "source": [
    "If you have never heard of WASD keys, please check out this [link](https://en.wikipedia.org/wiki/Arrow_keys#WASD_keys).\n",
    "\n",
    "## Instructions to get started\n",
    "\n",
    "1. Run the `SETUP CELL` below this one by pressing `Ctrl + Enter`.\n",
    "    - If the cell does not run, delete the comment in the cell\n",
    "1. Click the button that says \"Load Car Simulator\". The simulator will appear below the button.\n",
    "1. Run the cell below the simulator, marked `CODE CELL` (hit `Ctrl + Enter`). \n",
    "1. Try to drive the car using WASD keys. You might notice a problem...\n",
    "1. Press the **Reset** button in the simulator and then modify the code in the `CODE CELL` as per the instructions in TODO comments. \n",
    "1. When you think you've fixed the problem, run the code cell again. \n",
    "\n",
    "**NOTE** \n",
    "- Depending on your computer, it may take a few minutes for the simulator to load! Please be patient.\n",
    "- Remember to re-run your `CODE CELL`:\n",
    " - 1) Click \"Restart Connection\" button on the cell above and wait for a minute for the kernel to get ready.\n",
    " - 2) Run this code cell (press Control+Enter) and as the code cell starts running,\n",
    " - 3) Click \"Reset button\" on the simulator\n",
    "    (If you don't see the \"Reset\" button inside the simulator, please click \"Load Car Simulator\" button again)\n",
    "\n",
    "### Instructions to Reload the Simulator\n",
    "Once the simulator is loaded, the `SETUP CELL` cannot be rerun, or it will prevent the simulator from appearing. If something happens to the simulator, you can do the following:\n",
    "- Go to Jupyter’s menu: Kernel --> Restart and Clear Output\n",
    "- Reload the page (Cmd-R)\n",
    "- Run the first cell again\n",
    "- Click the Green `Load Car Simulator` button"
   ]
  },
  {
   "cell_type": "code",
   "execution_count": 1,
   "metadata": {},
   "outputs": [
    {
     "data": {
      "text/html": [
       "<link rel=\"stylesheet\" type=\"text/css\" href=\"buttonStyle.css\">\n",
       "<button id=\"launcher\">Load Car Simulator </button>\n",
       "<button id=\"restart\">Restart Connection</button>\n",
       "<script src=\"setupLauncher.js\"></script><div id=\"simulator_frame\"></sim>\n",
       "<script src=\"kernelRestart.js\"></script>\n"
      ],
      "text/plain": [
       "<IPython.core.display.HTML object>"
      ]
     },
     "metadata": {},
     "output_type": "display_data"
    }
   ],
   "source": [
    "%%HTML\n",
    "<link rel=\"stylesheet\" type=\"text/css\" href=\"buttonStyle.css\">\n",
    "<button id=\"launcher\">Load Car Simulator </button>\n",
    "<button id=\"restart\">Restart Connection</button>\n",
    "<script src=\"setupLauncher.js\"></script><div id=\"simulator_frame\"></sim>\n",
    "<script src=\"kernelRestart.js\"></script>"
   ]
  },
  {
   "cell_type": "code",
   "execution_count": 2,
   "metadata": {},
   "outputs": [
    {
     "ename": "AttributeError",
     "evalue": "module 'simulate' has no attribute 'run'",
     "output_type": "error",
     "traceback": [
      "\u001b[1;31m---------------------------------------------------------------------------\u001b[0m",
      "\u001b[1;31mAttributeError\u001b[0m                            Traceback (most recent call last)",
      "Input \u001b[1;32mIn [2]\u001b[0m, in \u001b[0;36m<cell line: 67>\u001b[1;34m()\u001b[0m\n\u001b[0;32m     65\u001b[0m car\u001b[38;5;241m.\u001b[39mcontrol(\u001b[38;5;241m125.22\u001b[39m, \u001b[38;5;241m40.70\u001b[39m, \u001b[38;5;241m0\u001b[39m, \u001b[38;5;241m0\u001b[39m)\n\u001b[0;32m     66\u001b[0m car\u001b[38;5;241m.\u001b[39mparallel_parking(\u001b[38;5;241m125.22\u001b[39m, \u001b[38;5;241m40.70\u001b[39m, \u001b[38;5;241m0\u001b[39m, \u001b[38;5;241m0\u001b[39m)\n\u001b[1;32m---> 67\u001b[0m \u001b[43msim\u001b[49m\u001b[38;5;241;43m.\u001b[39;49m\u001b[43mrun\u001b[49m(car\u001b[38;5;241m.\u001b[39mparallel_parking)\n",
      "\u001b[1;31mAttributeError\u001b[0m: module 'simulate' has no attribute 'run'"
     ]
    }
   ],
   "source": [
    "from IPython.display import Javascript, display_javascript, HTML, IFrame\n",
    "import time\n",
    "import src.simulate as sim\n",
    "\n",
    "def bridge(cmd):\n",
    "    jscmd2 = 'window.simulatorWindow.postMessage(\"' + cmd + '\", \"*\");'\n",
    "    jsf2 = Javascript(jscmd2)\n",
    "    display_javascript(jsf2)\n",
    "\n",
    "\n",
    "class Car(object):\n",
    "    def __init__(self):\n",
    "        self._bridge = bridge\n",
    "        self.max_steer = 25.0\n",
    "        self.car_parameters = {\"throttle\": 0, \"steer\": 0, \"brake\": 0}\n",
    "        \n",
    "    def gas(self, amt):\n",
    "        if amt > 1: \n",
    "            amt = 1\n",
    "        if amt < -1:\n",
    "            amt = -1\n",
    "        s = 'throttle:' + str(amt)\n",
    "        self._bridge(s)\n",
    "        \n",
    "    def steer(self, angle):\n",
    "        if angle > self.max_steer:\n",
    "            angle = max_steer\n",
    "        if angle < -self.max_steer:\n",
    "            angle = -max_steer\n",
    "        \n",
    "        frac = float(angle) / self.max_steer\n",
    "        s = \"steer:\" + str(frac)\n",
    "        self._bridge(s)\n",
    "    \n",
    "    def control(self, pos_x, pos_y, time, velocity):\n",
    "        \"\"\" Controls the simulated car\"\"\"\n",
    "        \n",
    "    \n",
    "        if time < 3:\n",
    "            self.car_parameters['throttle'] = 1\n",
    "        elif pos_y > 32:\n",
    "            self.car_parameters['throttle'] = -1\n",
    "        else:\n",
    "            self.car_parameters['throttle'] = 0\n",
    "            self.car_parameters['brake'] = 1\n",
    "    \n",
    "        return self.car_parameters\n",
    "    \n",
    "    def parallel_parking(self, pos_x, pos_y, time, velocity):\n",
    "        \"\"\" Parks the the simulated car\"\"\" \n",
    "    \n",
    "        if time < 3:\n",
    "            self.car_parameters['throttle'] = -1\n",
    "            self.car_parameters['steer'] = 25\n",
    "        elif pos_y > 32.5:\n",
    "            self.car_parameters['throttle'] = -1\n",
    "            self.car_parameters['steer'] = -25\n",
    "        else:\n",
    "            self.car_parameters['steer'] = 0\n",
    "            self.car_parameters['brake'] = 1\n",
    "        \n",
    "        return self.car_parameters\n",
    "\n",
    "car = Car()\n",
    "car.control(125.22, 40.70, 0, 0)\n",
    "car.parallel_parking(125.22, 40.70, 0, 0)\n",
    "sim.run(car.parallel_parking)"
   ]
  },
  {
   "cell_type": "code",
   "execution_count": null,
   "metadata": {},
   "outputs": [],
   "source": [
    "# CODE CELL\n",
    "\n",
    "# Important notes: please do the following steps before you re-run your code on the simulator\n",
    "# 1) Click \"Restart Connection\" button on the cell above and wait for a minute for the kernel to get ready.\n",
    "# 2) Run this code cell (press Control+Enter)  and as the code cell starts running,\n",
    "# 3) Click \"Reset button\" on the simulator\n",
    "#    (If you don't see the \"Reset\" button inside the simulator, please click \"Load Car Simulator\" button again)\n",
    "\n",
    "\n",
    "# Once again, the steer value can be from -25 and 25\n",
    "# Your throttle and brake can be from -1 to 1\n",
    "car_parameters = {\"throttle\": 0, \"steer\": 0, \"brake\": 0}\n",
    "\n",
    "def control(pos_x, pos_y, time, velocity):\n",
    "    \"\"\" Controls the simulated car\"\"\"\n",
    "    global car_parameters\n",
    "    \n",
    "    \n",
    "    # TODO: Use WASD keys in simulator to gain an intuitive feel of parallel parking.\n",
    "    # Pay close attention to the time, position, and velocity in the simulator.\n",
    "    \n",
    "    # TODO: Use this information to make decisions about how to set your car parameters\n",
    "    \n",
    "    # In this example the car will drive forward for three seconds\n",
    "    # and then backs up until its pos_y is less than 32 then comes to a stop by braking\n",
    "    if time < 3:\n",
    "        car_parameters['throttle'] = 1\n",
    "    elif pos_y > 32:\n",
    "        car_parameters['throttle'] = -1\n",
    "    else:\n",
    "        car_parameters['throttle'] = 0\n",
    "        car_parameters['brake'] = 1\n",
    "    \n",
    "    return car_parameters\n",
    "    \n",
    "import src.simulate as sim\n",
    "sim.run(control)\n"
   ]
  },
  {
   "cell_type": "markdown",
   "metadata": {},
   "source": [
    "# Submitting this Project!\n",
    "Your parallel park function is correct when:\n",
    "\n",
    "1. Your car doesn't hit any other cars.\n",
    "2. Your car stops completely inside of the right lane.\n",
    "\n",
    "Once you've got it working, it's time to submit. Submit by pressing the `SUBMIT` button at the lower right corner of this page."
   ]
  },
  {
   "cell_type": "code",
   "execution_count": null,
   "metadata": {},
   "outputs": [],
   "source": []
  }
 ],
 "metadata": {
  "kernelspec": {
   "display_name": "Python 3 (ipykernel)",
   "language": "python",
   "name": "python3"
  },
  "language_info": {
   "codemirror_mode": {
    "name": "ipython",
    "version": 3
   },
   "file_extension": ".py",
   "mimetype": "text/x-python",
   "name": "python",
   "nbconvert_exporter": "python",
   "pygments_lexer": "ipython3",
   "version": "3.9.12"
  }
 },
 "nbformat": 4,
 "nbformat_minor": 2
}

{
 "cells": [
  {
   "cell_type": "code",
   "execution_count": 1,
   "id": "dad06b60",
   "metadata": {},
   "outputs": [],
   "source": [
    "# Change the last argument in f() to maximize the output.\n",
    "\n",
    "from math import *\n",
    "\n",
    "def gaussian(mu, sigma2, x):\n",
    "    g = 1/sqrt(2*pi*sigma2) * exp(- 0.5 * (x - mu)**2/sigma2)\n",
    "    \n",
    "    return g\n",
    "\n",
    "gaussian_10_8 = gaussian(10, 4, 8)"
   ]
  },
  {
   "cell_type": "code",
   "execution_count": 2,
   "id": "4be3545f",
   "metadata": {},
   "outputs": [
    {
     "data": {
      "text/plain": [
       "0.12098536225957168"
      ]
     },
     "execution_count": 2,
     "metadata": {},
     "output_type": "execute_result"
    }
   ],
   "source": [
    "gaussian_10_8"
   ]
  },
  {
   "cell_type": "code",
   "execution_count": 3,
   "id": "c686344e",
   "metadata": {},
   "outputs": [],
   "source": [
    "# to maximize the gaussian x has to be equal to mu\n",
    "gaussian_10_10 = gaussian(10, 4, 10)"
   ]
  },
  {
   "cell_type": "code",
   "execution_count": null,
   "id": "009b269b",
   "metadata": {},
   "outputs": [],
   "source": [
    "# update mean and variance\n",
    "\n",
    "def update(mean1, var1, mean2, var2):\n",
    "    new_mean = (var2 * mean1 + var1 * mean2)/(var1 + var2)\n",
    "    new_var = 1 + (1/var1 + 1/var2)\n",
    "    return [new_mean, new_var]\n",
    "print(update(10, 8, 13, 2))"
   ]
  }
 ],
 "metadata": {
  "kernelspec": {
   "display_name": "Python 3 (ipykernel)",
   "language": "python",
   "name": "python3"
  },
  "language_info": {
   "codemirror_mode": {
    "name": "ipython",
    "version": 3
   },
   "file_extension": ".py",
   "mimetype": "text/x-python",
   "name": "python",
   "nbconvert_exporter": "python",
   "pygments_lexer": "ipython3",
   "version": "3.9.12"
  }
 },
 "nbformat": 4,
 "nbformat_minor": 5
}

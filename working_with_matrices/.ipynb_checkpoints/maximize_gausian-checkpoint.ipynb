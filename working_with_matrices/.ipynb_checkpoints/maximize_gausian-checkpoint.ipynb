{
 "cells": [
  {
   "cell_type": "code",
   "execution_count": 1,
   "id": "4b319185",
   "metadata": {},
   "outputs": [],
   "source": [
    "# Change the last argument in f() to maximize the output.\n",
    "\n",
    "from math import *\n",
    "\n",
    "def gaussian(mu, sigma2, x):\n",
    "    g = 1/sqrt(2*pi*sigma2) * exp(- 0.5 * (x - mu)**2/sigma2)\n",
    "    \n",
    "    return g\n",
    "\n",
    "first_gausian = gaussian(10, 4, 8)"
   ]
  },
  {
   "cell_type": "code",
   "execution_count": null,
   "id": "b80c9cd1",
   "metadata": {},
   "outputs": [],
   "source": []
  }
 ],
 "metadata": {
  "kernelspec": {
   "display_name": "Python 3 (ipykernel)",
   "language": "python",
   "name": "python3"
  },
  "language_info": {
   "codemirror_mode": {
    "name": "ipython",
    "version": 3
   },
   "file_extension": ".py",
   "mimetype": "text/x-python",
   "name": "python",
   "nbconvert_exporter": "python",
   "pygments_lexer": "ipython3",
   "version": "3.9.12"
  }
 },
 "nbformat": 4,
 "nbformat_minor": 5
}

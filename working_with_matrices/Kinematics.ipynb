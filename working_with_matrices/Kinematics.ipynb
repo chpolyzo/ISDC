{
 "cells": [
  {
   "cell_type": "markdown",
   "id": "6f38027a",
   "metadata": {},
   "source": [
    "## Kinematics\n",
    "\n",
    "Kinematics is the study of the motion of objects. Motion models are also referred to as kinematic equations, and these equations give you all the information you need to be able to predict the motion of a car.\n",
    "\n",
    "Let's derive some of the most common motion models!"
   ]
  },
  {
   "cell_type": "markdown",
   "id": "d2f14ceb",
   "metadata": {},
   "source": [
    "## Constant Velocity\n",
    "The constant velocity model assumes that a car moves at a constant speed. This is the simplest model for car movement."
   ]
  },
  {
   "cell_type": "markdown",
   "id": "364a7b0e",
   "metadata": {},
   "source": [
    "## Example\n",
    "\n",
    "Say that our car is moving 100m/s, and we want to figure out how much it has moved from one point in time, t1, to another, t2. This is represented by the graph below.\n",
    "\n",
    "![time_velocity Image](time_velocity.png \"(Left) Graph of car velocity, (Right) a car going 100m/s on a road\")"
   ]
  },
  {
   "cell_type": "markdown",
   "id": "707cda4e",
   "metadata": {},
   "source": [
    "## Displacement\n",
    "How much the car has moved is called the displacement and we already know how to calculate this!\n",
    "\n",
    "We know, for example, that if the difference between t2 and t1 is one second, then we'll have moved `100m/sec*1sec = 100m`. If the difference between t2 and t1 is two seconds, then we'll have moved `100m/sec*2sec = 200m`.\n",
    "\n",
    "`The displacement is always = 100m/sec*(t2-t1)`."
   ]
  },
  {
   "cell_type": "markdown",
   "id": "2067fb7e",
   "metadata": {},
   "source": [
    "## Motion Model\n",
    "\n",
    "Generally, for constant velocity, the motion model for displacement is:\n",
    "\n",
    "`isplacement = velocity*dt`\n",
    "Where `dt` is calculus notation for \"difference in time.\""
   ]
  },
  {
   "cell_type": "markdown",
   "id": "d24b4852",
   "metadata": {},
   "source": [
    "## Area Under the Line\n",
    "Going back to our graph, displacement can also be thought of as the area under the line and within the given time interval.\n",
    "![area under the line](area_under_the_line.png)\n",
    "\n",
    "So, in addition to our motion model, we can also say that the displacement is equal to the area under the line!\n",
    "\n",
    "`displacement = A`"
   ]
  },
  {
   "cell_type": "markdown",
   "id": "130c3e55",
   "metadata": {},
   "source": [
    "## Constant Acceleration\n",
    "The constant acceleration model is a little different; it assumes that our car is constantly accelerating; its velocity is changing at a constant rate.\n",
    "\n",
    "Let's say our car has a velocity of 100m/s at time t1 and is accelerating at a rate of 10 m/s^2^\n",
    "\n",
    "![Constant Acceleration](constant_acceleration.png)"
   ]
  },
  {
   "cell_type": "markdown",
   "id": "f878c276",
   "metadata": {},
   "source": [
    "## Changing Velocity\n",
    "For this motion model, we know that the velocity is constantly changing, and increasing +10m/s each second. This can be represented by this kinematic equation (where dv is the change in velocity):\n",
    "\n",
    "`dv = acceleration*dt`\n",
    "\n",
    "At any given time, this can also be written as the current velocity is the initial velocity + the change in velocity over some time (dv):\n",
    "\n",
    "`v = initial_velocity + acceleration*dt`\n"
   ]
  },
  {
   "cell_type": "markdown",
   "id": "fd255ecd",
   "metadata": {},
   "source": [
    "## Displacement\n",
    "\n",
    "Displacement can be calculated by finding the area under the line in between t1 and t2, similar to our constant velocity equation but a slightly different shape.\n",
    "![Displacement](displacement.png)\n",
    "\n",
    "`A1 = initial_velocity*dt`\n",
    "\n",
    "In other words, `A1 = 100m/s*(t2-t1)`.\n",
    "\n",
    "A2 is a little trickier to calculate, but remember that the area of a triangle is `0.5*width*height`.\n",
    "\n",
    "The width, we know, is our change in time `(t2-t1)` or `dt`.\n",
    "\n",
    "And the height is the change in velocity over that time! From our earlier equation for velocity, we know that this value, dv, is equal to: `acceleration*(t2-t1)` or `acceleration*dt`\n",
    "\n",
    "Now that we have the width and height of the triangle, we can calculate A2. Note that** is a Python operator for an exponent, so **2 is equivalent to ^2 in mathematics or squaring a value.\n",
    "\n",
    "`A2 = 0.5*acceleration*dt**2`"
   ]
  },
  {
   "cell_type": "markdown",
   "id": "1ef8860f",
   "metadata": {},
   "source": [
    "## Motion Model\n",
    "This means that our total displacement, A1+A2 ,can be represented by the equation:\n",
    "\n",
    "`displacement = initial_velocity*dt + 0.5*acceleration*dt**2`\n",
    "We also know that our velocity over time changes according to the equation:\n",
    "\n",
    "`dv = acceleration*dt`\n",
    "And these two equations, together, make up our motion model for constant acceleration."
   ]
  },
  {
   "cell_type": "code",
   "execution_count": null,
   "id": "b570c37a",
   "metadata": {},
   "outputs": [],
   "source": []
  }
 ],
 "metadata": {
  "kernelspec": {
   "display_name": "Python 3 (ipykernel)",
   "language": "python",
   "name": "python3"
  },
  "language_info": {
   "codemirror_mode": {
    "name": "ipython",
    "version": 3
   },
   "file_extension": ".py",
   "mimetype": "text/x-python",
   "name": "python",
   "nbconvert_exporter": "python",
   "pygments_lexer": "ipython3",
   "version": "3.9.12"
  }
 },
 "nbformat": 4,
 "nbformat_minor": 5
}

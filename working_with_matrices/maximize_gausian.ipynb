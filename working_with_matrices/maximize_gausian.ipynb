{
 "cells": [
  {
   "cell_type": "code",
   "execution_count": 3,
   "id": "dad06b60",
   "metadata": {},
   "outputs": [],
   "source": [
    "# Change the last argument in f() to maximize the output.\n",
    "\n",
    "from math import *\n",
    "\n",
    "def gaussian(mu, sigma2, x):\n",
    "    g = 1/sqrt(2*pi*sigma2) * exp(- 0.5 * (x - mu)**2/sigma2)\n",
    "    \n",
    "    return g\n",
    "\n",
    "first_gaussian = gaussian(10, 4, 8)"
   ]
  },
  {
   "cell_type": "code",
   "execution_count": 4,
   "id": "4be3545f",
   "metadata": {},
   "outputs": [
    {
     "data": {
      "text/plain": [
       "0.12098536225957168"
      ]
     },
     "execution_count": 4,
     "metadata": {},
     "output_type": "execute_result"
    }
   ],
   "source": [
    "first_gaussian"
   ]
  },
  {
   "cell_type": "code",
   "execution_count": 5,
   "id": "c686344e",
   "metadata": {},
   "outputs": [
    {
     "data": {
      "text/plain": [
       "0.19947114020071635"
      ]
     },
     "execution_count": 5,
     "metadata": {},
     "output_type": "execute_result"
    }
   ],
   "source": [
    "# to maximize the gaussian x has to be equal to mu\n",
    "\n",
    "gaussian(10, 4, 10)"
   ]
  },
  {
   "cell_type": "code",
   "execution_count": null,
   "id": "009b269b",
   "metadata": {},
   "outputs": [],
   "source": []
  }
 ],
 "metadata": {
  "kernelspec": {
   "display_name": "Python 3 (ipykernel)",
   "language": "python",
   "name": "python3"
  },
  "language_info": {
   "codemirror_mode": {
    "name": "ipython",
    "version": 3
   },
   "file_extension": ".py",
   "mimetype": "text/x-python",
   "name": "python",
   "nbconvert_exporter": "python",
   "pygments_lexer": "ipython3",
   "version": "3.9.12"
  }
 },
 "nbformat": 4,
 "nbformat_minor": 5
}
